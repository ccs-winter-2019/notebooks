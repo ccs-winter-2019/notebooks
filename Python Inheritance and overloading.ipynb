{
 "cells": [
  {
   "cell_type": "code",
   "execution_count": null,
   "metadata": {},
   "outputs": [],
   "source": [
    "# select movie.screenplay\n",
    "# from movie\n",
    "# left join review on review.movie_id = movie.id\n",
    "# left join user on user.review_id = review.id\n",
    "\n",
    "# ORM\n",
    "# Object Relational Mapping\n",
    "\n",
    "# movies = Movie.objects.all().only('title')\n",
    "\n",
    "# print(movies.sql)\n",
    "\n",
    "# movies.reviews.users\n",
    "\n",
    "# for user in movies.reviews.users:\n",
    "#     user.name\n",
    "#     user.age\n"
   ]
  },
  {
   "cell_type": "code",
   "execution_count": 10,
   "metadata": {},
   "outputs": [
    {
     "name": "stdout",
     "output_type": "stream",
     "text": [
      "wwbrraaaawwwww\n",
      "Rubbing off the lint\n",
      "Do some awesome distortion\n",
      "strumboliiii\n"
     ]
    }
   ],
   "source": [
    "class Instrument():\n",
    "    \n",
    "    keys = 8\n",
    "    shiny = True\n",
    "    color = 'Brass'\n",
    "    \n",
    "    def __init__(self, sound='brraaaarrraaaa'):\n",
    "        self.sound = sound\n",
    "    \n",
    "    def play(self):\n",
    "        print(self.sound)\n",
    "    \n",
    "    def tune(self):\n",
    "        print('Adjusting the slide')\n",
    "    \n",
    "    def clean(self):\n",
    "        print('Spending all day slaving away with my polishing tooth brush')\n",
    "\n",
    "tuba = Instrument('wwbrraaaawwwww')\n",
    "tuba.play()\n",
    "\n",
    "\n",
    "class StringInstrument(Instrument):\n",
    "\n",
    "    def play(self):\n",
    "        print('Do some awesome distortion')\n",
    "        super().play()\n",
    "        \n",
    "    def clean(self):\n",
    "        print('Rubbing off the lint')\n",
    "\n",
    "guitar = StringInstrument('strumboliiii')\n",
    "guitar.clean()\n",
    "guitar.play()\n"
   ]
  },
  {
   "cell_type": "code",
   "execution_count": null,
   "metadata": {},
   "outputs": [],
   "source": [
    "# views.py\n",
    "\n",
    "from django.utils.timezone import now\n",
    "\n",
    "class HomeView(TemplateView):\n",
    "    template_name = 'home.html'\n",
    "    \n",
    "    def get_context_data(self, **kwargs):\n",
    "        context = super().get_context_data(**kwargs)\n",
    "        \n",
    "        # Add all of the lunches to the context that the correct age\n",
    "        lunches = Lunch.objects.filter(created_date__lte=now())\n",
    "        context['lunches'] = lunches\n",
    "        \n",
    "        return context\n",
    "\n",
    "class PianoRollListing(ListView):\n",
    "    model = PianoRoll\n",
    "\n",
    "    def get_queryset(self, *args, **kwargs):\n",
    "        queryset = super().get_queryset(*args, **kwargs)\n",
    "        \n",
    "        return queryset.filter(age__gt='1923')\n"
   ]
  }
 ],
 "metadata": {
  "kernelspec": {
   "display_name": "Python 3",
   "language": "python",
   "name": "python3"
  },
  "language_info": {
   "codemirror_mode": {
    "name": "ipython",
    "version": 3
   },
   "file_extension": ".py",
   "mimetype": "text/x-python",
   "name": "python",
   "nbconvert_exporter": "python",
   "pygments_lexer": "ipython3",
   "version": "3.7.1"
  }
 },
 "nbformat": 4,
 "nbformat_minor": 2
}
