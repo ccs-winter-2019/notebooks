{
 "cells": [
  {
   "cell_type": "markdown",
   "metadata": {},
   "source": [
    "You have been put in charge of writting a program that will manage the inventory for a local fruit stand.\n",
    "\n",
    "Create a class called Fruit that has an `inventory` and `name` property. Then write a method called `buy` that accepts an\n",
    "amount of fruit that you would like to buy. If there is not enough inventory on hand to buy the desired amount\n",
    "print \"Sorry, you can't buy that much. We only have `<current_inventory_amount>` on hand\". If you buy the last item\n",
    "print \"Congrats! You got the last `<name_of_the_fruit>`.\" And `buy` should also track the amount of inventory you \n",
    "have on hand using the `inventory` property if the purchase is successful.\n",
    "\n",
    "Then use your new Fruit class to create an Apple and Orange class that will do the following:\n"
   ]
  },
  {
   "cell_type": "code",
   "execution_count": 7,
   "metadata": {},
   "outputs": [
    {
     "name": "stdout",
     "output_type": "stream",
     "text": [
      "Congrats! You got the last Generic Fruit.\n",
      "Sorry, you can't buy that much. We only have 0 on hand\n"
     ]
    }
   ],
   "source": [
    "class Fruit():\n",
    "    inventory = 10\n",
    "    name = 'Generic Fruit'\n",
    "\n",
    "    def buy(self, amount_of_fruit):\n",
    "        if amount_of_fruit > self.inventory:\n",
    "            print(\"Sorry, you can't buy that much. We only have {} on hand\".format(self.inventory))\n",
    "            return\n",
    "        elif amount_of_fruit == self.inventory:\n",
    "            print(\"Congrats! You got the last {}.\".format(self.name))\n",
    "        \n",
    "        self.inventory = self.inventory - amount_of_fruit\n",
    "        # self.inventory -= amount_of_fruit\n",
    "        \n",
    "        return self.inventory\n",
    "\n",
    "    \n",
    "class Apple(Fruit):\n",
    "    name = 'apple'\n",
    "    inventory = 5\n",
    "\n",
    "    \n",
    "class Orange(Fruit):\n",
    "    name = 'ornage'\n",
    "    \n",
    "    \n",
    "fruit = Fruit()\n",
    "fruit.buy(5)\n",
    "fruit.buy(5)\n",
    "fruit.buy(5)"
   ]
  },
  {
   "cell_type": "code",
   "execution_count": 9,
   "metadata": {},
   "outputs": [
    {
     "name": "stdout",
     "output_type": "stream",
     "text": [
      "Congrats! You got the last apple.\n",
      "Sorry, you can't buy that much. We only have 5 on hand\n",
      "<class '__main__.Apple'>\n",
      "Sorry, you can't buy that much. We only have 10 on hand\n"
     ]
    }
   ],
   "source": [
    "fugi = Apple()\n",
    "fugi.buy(2)\n",
    "fugi.buy(3)  # Congrats! You got the last apple\n",
    "\n",
    "honeycrisp = Apple()\n",
    "honeycrisp.buy(6)\n",
    "print(type(honeycrisp))\n",
    "\n",
    "cool_stuff = Orange()\n",
    "cool_stuff.buy(11)  # Sorry, you can't buy that much. We only have 10 on hand"
   ]
  }
 ],
 "metadata": {
  "kernelspec": {
   "display_name": "Python 3",
   "language": "python",
   "name": "python3"
  },
  "language_info": {
   "codemirror_mode": {
    "name": "ipython",
    "version": 3
   },
   "file_extension": ".py",
   "mimetype": "text/x-python",
   "name": "python",
   "nbconvert_exporter": "python",
   "pygments_lexer": "ipython3",
   "version": "3.7.1"
  }
 },
 "nbformat": 4,
 "nbformat_minor": 2
}
