{
 "cells": [
  {
   "cell_type": "code",
   "execution_count": 6,
   "metadata": {},
   "outputs": [
    {
     "name": "stdout",
     "output_type": "stream",
     "text": [
      "Fido\n",
      "Kepler\n",
      "Oz\n",
      "Oz\n"
     ]
    }
   ],
   "source": [
    "dog = {\n",
    "    'name': 'Fido',\n",
    "    'age': 10,\n",
    "}\n",
    "\n",
    "print(dog['name'])\n",
    "\n",
    "kepler = dog\n",
    "kepler['name'] = 'Kepler'\n",
    "\n",
    "print(kepler['name'])\n",
    "\n",
    "oz = kepler = dog\n",
    "oz['name'] = 'Oz'\n",
    "\n",
    "print(oz['name'])\n",
    "\n",
    "print(kepler['name'])"
   ]
  },
  {
   "cell_type": "code",
   "execution_count": 15,
   "metadata": {},
   "outputs": [
    {
     "name": "stdout",
     "output_type": "stream",
     "text": [
      "Kepler\n",
      "Kepler is wagging his tail!\n",
      "Kepler is wagging his whole body!\n",
      "Oz is wagging his nub!\n"
     ]
    }
   ],
   "source": [
    "class Dog():\n",
    "    name = 'Fido'\n",
    "    age = 10\n",
    "    \n",
    "    def wag(self, body_part):\n",
    "        print('{} is wagging his {}!'.format(self.name, body_part))\n",
    "        \n",
    "    def drink_water(self):\n",
    "        pass\n",
    "        \n",
    "\n",
    "kepler = Dog()\n",
    "kepler.name = 'Kepler'\n",
    "print(kepler.name)\n",
    "kepler.wag('tail')\n",
    "kepler.wag('whole body')\n",
    "\n",
    "oz = Dog()\n",
    "oz.name = 'Oz'\n",
    "oz.wag('nub')"
   ]
  }
 ],
 "metadata": {
  "kernelspec": {
   "display_name": "Python 3",
   "language": "python",
   "name": "python3"
  },
  "language_info": {
   "codemirror_mode": {
    "name": "ipython",
    "version": 3
   },
   "file_extension": ".py",
   "mimetype": "text/x-python",
   "name": "python",
   "nbconvert_exporter": "python",
   "pygments_lexer": "ipython3",
   "version": "3.7.1"
  }
 },
 "nbformat": 4,
 "nbformat_minor": 2
}
