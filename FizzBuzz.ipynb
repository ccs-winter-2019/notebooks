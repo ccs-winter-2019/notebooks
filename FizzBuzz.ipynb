{
 "cells": [
  {
   "cell_type": "markdown",
   "metadata": {},
   "source": [
    "# FizzBuzz\n",
    "\n",
    "Write a program that prints the numbers from 1 to 20. But for multiples of three print “Fizz” instead of the number and for the multiples of five print “Buzz”. For numbers which are multiples of both three and five print “FizzBuzz”."
   ]
  },
  {
   "cell_type": "code",
   "execution_count": 15,
   "metadata": {},
   "outputs": [
    {
     "name": "stdout",
     "output_type": "stream",
     "text": [
      "12Fizz45Fizz78Fizz1011Fizz1314Fizz1617Fizz1920\n"
     ]
    }
   ],
   "source": [
    "# range_list = range(1, 101)  # [1, 2, 3, ]\n",
    "\n",
    "fizz_buzz_string = \"\"\n",
    "\n",
    "for number in range(1, 21):\n",
    "    \n",
    "    if number % 3 == 0:\n",
    "        fizz_buzz_string += \"Fizz\"\n",
    "    \n",
    "    else:\n",
    "        fizz_buzz_string += str(number)\n",
    "    \n",
    "print(fizz_buzz_string)\n",
    "    \n",
    "#     if number % 3 == 0 and number % 5 == 0:\n",
    "#         print('FizzBuzz')\n",
    "#     elif number % 3 == 0:\n",
    "#         print('Fizz')\n",
    "#     elif number % 5 == 0:\n",
    "#         print('Buzz')\n",
    "#     else:\n",
    "#         print(number)\n"
   ]
  },
  {
   "cell_type": "code",
   "execution_count": null,
   "metadata": {},
   "outputs": [],
   "source": []
  },
  {
   "cell_type": "code",
   "execution_count": null,
   "metadata": {},
   "outputs": [],
   "source": []
  }
 ],
 "metadata": {
  "kernelspec": {
   "display_name": "Python 3",
   "language": "python",
   "name": "python3"
  },
  "language_info": {
   "codemirror_mode": {
    "name": "ipython",
    "version": 3
   },
   "file_extension": ".py",
   "mimetype": "text/x-python",
   "name": "python",
   "nbconvert_exporter": "python",
   "pygments_lexer": "ipython3",
   "version": "3.7.1"
  }
 },
 "nbformat": 4,
 "nbformat_minor": 2
}
